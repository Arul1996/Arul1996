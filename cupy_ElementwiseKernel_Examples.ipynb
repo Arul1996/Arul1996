{
  "nbformat": 4,
  "nbformat_minor": 0,
  "metadata": {
    "colab": {
      "name": "cupy.ElementwiseKernel - Examples.ipynb",
      "provenance": [],
      "include_colab_link": true
    },
    "kernelspec": {
      "name": "python3",
      "display_name": "Python 3"
    },
    "accelerator": "GPU"
  },
  "cells": [
    {
      "cell_type": "markdown",
      "metadata": {
        "id": "view-in-github",
        "colab_type": "text"
      },
      "source": [
        "<a href=\"https://colab.research.google.com/github/Arul1996/Arul1996/blob/main/cupy_ElementwiseKernel_Examples.ipynb\" target=\"_parent\"><img src=\"https://colab.research.google.com/assets/colab-badge.svg\" alt=\"Open In Colab\"/></a>"
      ]
    },
    {
      "cell_type": "markdown",
      "metadata": {
        "id": "abE1SkAGyzV2"
      },
      "source": [
        "1. To Run the notebook open it in playground mode and \n",
        "2. Don't forget to turn on the GPU from *Runtime -> Change runtime type*"
      ]
    },
    {
      "cell_type": "code",
      "metadata": {
        "id": "6X5qmBmcSpsb"
      },
      "source": [
        "import cupy as cp"
      ],
      "execution_count": 1,
      "outputs": []
    },
    {
      "cell_type": "markdown",
      "metadata": {
        "id": "VM7wk9reVGJh"
      },
      "source": [
        "# Non-generic kernel"
      ]
    },
    {
      "cell_type": "code",
      "metadata": {
        "id": "WJ9xS8IFTbGR",
        "colab": {
          "base_uri": "https://localhost:8080/"
        },
        "outputId": "1ae9bcc6-d8cb-4e66-d42d-99770f550ea8"
      },
      "source": [
        "squared_diff = cp.ElementwiseKernel(\n",
        "   'int64 x, int64 y',        # input argument list\n",
        "   'int64 z',                 # output argument list\n",
        "   'z = (x - y) * (x - y)',   # loop body code\n",
        "   'squared_diff')            # kernel name\n",
        "\n",
        "x = cp.array([1, 2, 3, 4])\n",
        "y = cp.array([5, 4, 7, 8])\n",
        "\n",
        "squared_diff(x, y)"
      ],
      "execution_count": 2,
      "outputs": [
        {
          "output_type": "execute_result",
          "data": {
            "text/plain": [
              "array([16,  4, 16, 16])"
            ]
          },
          "metadata": {},
          "execution_count": 2
        }
      ]
    },
    {
      "cell_type": "markdown",
      "metadata": {
        "id": "L76uBzbgVJwP"
      },
      "source": [
        "#Generic kernel"
      ]
    },
    {
      "cell_type": "code",
      "metadata": {
        "id": "6hmEU7roTz3z",
        "colab": {
          "base_uri": "https://localhost:8080/"
        },
        "outputId": "bcf6461e-fe6c-41fb-a45d-70d97765d4d4"
      },
      "source": [
        "elemetwise_addition = cp.ElementwiseKernel(\n",
        "   'S x, T y',             # inputs, S and T are datatypes\n",
        "   'S z',                  # datatype of z will be the same as x\n",
        "   'z = (x + (S) y)',      # y is typecasted to S(the type of x)\n",
        "   'elemetwise_addition')  # kernel name\n",
        "\n",
        "x = cp.array([1.5, 2.5, 3.5, 4.5])\n",
        "y = cp.array([5, 4, 7, 8])\n",
        "\n",
        "elemetwise_addition(x, y)"
      ],
      "execution_count": 3,
      "outputs": [
        {
          "output_type": "execute_result",
          "data": {
            "text/plain": [
              "array([ 6.5,  6.5, 10.5, 12.5])"
            ]
          },
          "metadata": {},
          "execution_count": 3
        }
      ]
    },
    {
      "cell_type": "markdown",
      "metadata": {
        "id": "3CO6YsYiVMnw"
      },
      "source": [
        "# Raw arguments (indexing inside the kernel)"
      ]
    },
    {
      "cell_type": "code",
      "metadata": {
        "id": "O5-EmyjWUlRi",
        "colab": {
          "base_uri": "https://localhost:8080/"
        },
        "outputId": "c31f6c5c-bb53-4e5d-f93b-284d92c5107e"
      },
      "source": [
        "indexwise_rearange = cp.ElementwiseKernel(\n",
        "   'S x, raw T y',                 # y has been specified as 'raw'\n",
        "   'S z',                                                           \n",
        "   'z = y[x]',                     # x is looped elementwise and \n",
        "   'indexwise_rearange')           #     the y is indexed by the   \n",
        "                                   #     corrsponding element of x\n",
        "\n",
        "x = cp.array([2, 3, 1, 0])         # x[i] belongs to [0, len(y) - 1]\n",
        "y = cp.array([5, 4, 7, 8])         # For this particular example\n",
        "\n",
        "indexwise_rearange(x, y)           # Elements of y are rearranged\n",
        "                                   # according to the indeices \n",
        "                                   # specified in x"
      ],
      "execution_count": 4,
      "outputs": [
        {
          "output_type": "execute_result",
          "data": {
            "text/plain": [
              "array([7, 8, 4, 5])"
            ]
          },
          "metadata": {},
          "execution_count": 4
        }
      ]
    },
    {
      "cell_type": "markdown",
      "metadata": {
        "id": "aZGeu5yCWcHG"
      },
      "source": [
        "# Scalar arguments"
      ]
    },
    {
      "cell_type": "code",
      "metadata": {
        "id": "EardQKr0WJVD",
        "colab": {
          "base_uri": "https://localhost:8080/"
        },
        "outputId": "e320c296-70d0-4418-deaa-3be692a5a89b"
      },
      "source": [
        "vector_scalar_mult = cp.ElementwiseKernel(\n",
        "   'int64 x, float64 y',\n",
        "   'float64 z',                                                    \n",
        "   'z = x * y',\n",
        "   'vector_scalar_mult')\n",
        "\n",
        "x = cp.array([2, 3, 1, 0])\n",
        "\n",
        "vector_scalar_mult(x, 2.0)       # y is a scalar\n",
        "\n",
        "x"
      ],
      "execution_count": 8,
      "outputs": [
        {
          "output_type": "execute_result",
          "data": {
            "text/plain": [
              "array([2, 3, 1, 0])"
            ]
          },
          "metadata": {},
          "execution_count": 8
        }
      ]
    },
    {
      "cell_type": "markdown",
      "metadata": {
        "id": "4_H6qcSQVSWw"
      },
      "source": [
        "# passing output arguments by reference"
      ]
    },
    {
      "cell_type": "code",
      "metadata": {
        "id": "ru6ZGUZwUwKU",
        "colab": {
          "base_uri": "https://localhost:8080/",
          "height": 34
        },
        "outputId": "5f599602-faf3-4b32-acaa-dfb434844b72"
      },
      "source": [
        "vector_scalar_mult = cp.ElementwiseKernel(\n",
        "   'float64 y',        \n",
        "   'S x',                    # x will be updated by the kernel                                \n",
        "   'x = x * y',\n",
        "   'vector_scalar_mult')\n",
        "\n",
        "x = cp.array([2, 3, 1, 0])\n",
        "\n",
        "vector_scalar_mult(2.0, x)   # x is passed as an output argument\n",
        "\n",
        "x                            # updated x"
      ],
      "execution_count": null,
      "outputs": [
        {
          "output_type": "execute_result",
          "data": {
            "text/plain": [
              "array([4, 6, 2, 0])"
            ]
          },
          "metadata": {
            "tags": []
          },
          "execution_count": 8
        }
      ]
    },
    {
      "cell_type": "code",
      "metadata": {
        "id": "P6lpWR61YK4_"
      },
      "source": [
        ""
      ],
      "execution_count": null,
      "outputs": []
    }
  ]
}